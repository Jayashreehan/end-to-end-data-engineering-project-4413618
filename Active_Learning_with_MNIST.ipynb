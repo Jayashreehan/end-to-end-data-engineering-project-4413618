{
  "nbformat": 4,
  "nbformat_minor": 0,
  "metadata": {
    "colab": {
      "name": "Active Learning with MNIST",
      "provenance": [],
      "include_colab_link": true
    },
    "kernelspec": {
      "name": "python3",
      "display_name": "Python 3"
    }
  },
  "cells": [
    {
      "cell_type": "markdown",
      "metadata": {
        "id": "view-in-github",
        "colab_type": "text"
      },
      "source": [
        "<a href=\"https://colab.research.google.com/github/Jayashreehan/end-to-end-data-engineering-project-4413618/blob/main/Active_Learning_with_MNIST.ipynb\" target=\"_parent\"><img src=\"https://colab.research.google.com/assets/colab-badge.svg\" alt=\"Open In Colab\"/></a>"
      ]
    },
    {
      "cell_type": "markdown",
      "metadata": {
        "id": "sxBs-sAm37JB"
      },
      "source": [
        "# Active Learning with MNIST\n",
        "\n",
        "The following is a simple example of the benefits of active learning.  When you have lots of data, but labeling costs are high, you want to choose wisely which data to label.  i.e. Label the first 1,000 items, train a model, then use that model to pick what 1,000 items to label next.  Using the model to pick which samples to label next can be more efficient then just randomly labeling more data.  The intuition behind this is that you want to select samples that are closest to the decision boundary, as they are likey to impact accuracy most, whereas samples far from the decision boundary probably will not change accuracy.  How do we prioritize different samples to label?  There are a few options demonstrated below, but the simplest and most intuitive is to simply pick the item which have the lowest confidence prediction from the existing model (i.e. the samples that the model is most unsure about).\n",
        "\n",
        "In the below notebook we train MNIST by starting with 500 labels, and then prioritize each incremental 500 labeled samples based on how the current model views them (e.g. choose the 500 that have the lowest confidence prediction).  We compare to a simple baseline where we  randomly add items at each iteration.  The baseline gives a sense for how much the model benefits from additional data.\n",
        "\n",
        "### References\n",
        "https://www.datacamp.com/community/tutorials/active-learning"
      ]
    },
    {
      "cell_type": "markdown",
      "metadata": {
        "id": "efQQtTX6h-sE"
      },
      "source": [
        "## Install and import dependencies"
      ]
    },
    {
      "cell_type": "code",
      "metadata": {
        "id": "LE1gcKh0hw0X"
      },
      "source": [
        "from __future__ import absolute_import, division, print_function, unicode_literals\n",
        "\n",
        "# Install TensorFlow\n",
        "!pip install -q tensorflow==2.19.0\n",
        "\n",
        "import numpy as np\n",
        "import tensorflow as tf\n",
        "import matplotlib as mpl\n",
        "import matplotlib.pyplot as plt\n",
        "%matplotlib inline\n"
      ],
      "execution_count": 40,
      "outputs": []
    },
    {
      "cell_type": "markdown",
      "metadata": {
        "id": "fjyJAQnUiZod"
      },
      "source": [
        "## Load MNIST Data"
      ]
    },
    {
      "cell_type": "code",
      "metadata": {
        "id": "utCSxxsBiXk5"
      },
      "source": [
        "mnist = tf.keras.datasets.mnist\n",
        "\n",
        "(x_train, y_train), (x_test, y_test) = mnist.load_data()\n",
        "x_train, x_test = x_train / 255.0, x_test / 255.0"
      ],
      "execution_count": 41,
      "outputs": []
    },
    {
      "cell_type": "markdown",
      "metadata": {
        "id": "1T2T-1E0ipec"
      },
      "source": [
        "## Define Function for Evaluating Labeling Prioritization Schemes\n",
        "This function evaluates test accuracy after training on 500 items, then 1,000, then 1,500, etc up to 20,000 items.  At each iteration it decides what 500 items to add to the training set based on the prioritizer.  The prioritizer is given the predictions made by the model on the remaining samples so it can decide which ones are most productive to train on.\n"
      ]
    },
    {
      "cell_type": "code",
      "metadata": {
        "id": "8wZaMHh4w_Ro"
      },
      "source": [
        "def eval_prioritization_strategy(prioritizer):\n",
        "  train_indices = range(60000)\n",
        "\n",
        "  test_accuracies = []\n",
        "  x_train_subset = np.zeros([0, 28, 28])\n",
        "  y_train_subset = np.empty([0,])\n",
        "\n",
        "  for i in range(20):\n",
        "    selected_indices = train_indices[0:1000]\n",
        "    train_indices = train_indices[1000:]\n",
        "    x_train_subset = np.concatenate((x_train_subset, x_train[selected_indices,...]))\n",
        "    y_train_subset = np.concatenate((y_train_subset, y_train[selected_indices,...]))\n",
        "\n",
        "    model = tf.keras.models.Sequential([\n",
        "      tf.keras.layers.Flatten(input_shape=(28, 28)),\n",
        "      tf.keras.layers.Dense(128, activation='relu'),\n",
        "      tf.keras.layers.Dense(10, activation='softmax')\n",
        "    ])\n",
        "\n",
        "    model.compile(optimizer='adam',\n",
        "                  loss='sparse_categorical_crossentropy',\n",
        "                  metrics=['accuracy'])\n",
        "    model.fit(x_train_subset, y_train_subset, epochs=5, verbose=0)\n",
        "    loss, accuracy = model.evaluate(x_test, y_test, verbose=0)\n",
        "    test_accuracies.append(accuracy)\n",
        "    print('Training data size of %d => accuracy %f' % (x_train_subset.shape[0], accuracy))\n",
        "\n",
        "    predictions = model.predict(x_train[train_indices,...])\n",
        "    train_indices = prioritizer(train_indices, predictions)\n",
        "\n",
        "  return test_accuracies\n"
      ],
      "execution_count": 42,
      "outputs": []
    },
    {
      "cell_type": "markdown",
      "metadata": {
        "id": "WZ1wtKah_GHA"
      },
      "source": [
        "## Baseline\n",
        "As a baseline lets just add more items to the training set without regard for how the current model fares.  This gives a sense for how quickly the model improves merely by adding unpreferential labeled data.  Its interesting to note on how little data the model needs for the MNIST dataset (e.g. 90% accuracy at 2,000 samples -- it takes the next 58,000 samples to get to 97.5%)"
      ]
    },
    {
      "cell_type": "code",
      "metadata": {
        "id": "6sZveKUX09YP",
        "colab": {
          "base_uri": "https://localhost:8080/"
        },
        "outputId": "248546d5-4497-4153-a1d8-8f22d05fe165"
      },
      "source": [
        "unprioritized_accuracies = eval_prioritization_strategy(lambda indices, pred: indices)"
      ],
      "execution_count": 43,
      "outputs": [
        {
          "output_type": "stream",
          "name": "stderr",
          "text": [
            "/usr/local/lib/python3.12/dist-packages/keras/src/layers/reshaping/flatten.py:37: UserWarning: Do not pass an `input_shape`/`input_dim` argument to a layer. When using Sequential models, prefer using an `Input(shape)` object as the first layer in the model instead.\n",
            "  super().__init__(**kwargs)\n"
          ]
        },
        {
          "output_type": "stream",
          "name": "stdout",
          "text": [
            "Training data size of 1000 => accuracy 0.876000\n",
            "\u001b[1m1844/1844\u001b[0m \u001b[32m━━━━━━━━━━━━━━━━━━━━\u001b[0m\u001b[37m\u001b[0m \u001b[1m6s\u001b[0m 3ms/step\n",
            "Training data size of 2000 => accuracy 0.898500\n",
            "\u001b[1m1813/1813\u001b[0m \u001b[32m━━━━━━━━━━━━━━━━━━━━\u001b[0m\u001b[37m\u001b[0m \u001b[1m3s\u001b[0m 2ms/step\n",
            "Training data size of 3000 => accuracy 0.908400\n",
            "\u001b[1m1782/1782\u001b[0m \u001b[32m━━━━━━━━━━━━━━━━━━━━\u001b[0m\u001b[37m\u001b[0m \u001b[1m4s\u001b[0m 2ms/step\n",
            "Training data size of 4000 => accuracy 0.925500\n",
            "\u001b[1m1750/1750\u001b[0m \u001b[32m━━━━━━━━━━━━━━━━━━━━\u001b[0m\u001b[37m\u001b[0m \u001b[1m2s\u001b[0m 1ms/step\n",
            "Training data size of 5000 => accuracy 0.919400\n",
            "\u001b[1m1719/1719\u001b[0m \u001b[32m━━━━━━━━━━━━━━━━━━━━\u001b[0m\u001b[37m\u001b[0m \u001b[1m3s\u001b[0m 2ms/step\n",
            "Training data size of 6000 => accuracy 0.926800\n",
            "\u001b[1m1688/1688\u001b[0m \u001b[32m━━━━━━━━━━━━━━━━━━━━\u001b[0m\u001b[37m\u001b[0m \u001b[1m2s\u001b[0m 1ms/step\n",
            "Training data size of 7000 => accuracy 0.935000\n",
            "\u001b[1m1657/1657\u001b[0m \u001b[32m━━━━━━━━━━━━━━━━━━━━\u001b[0m\u001b[37m\u001b[0m \u001b[1m2s\u001b[0m 1ms/step\n",
            "Training data size of 8000 => accuracy 0.940200\n",
            "\u001b[1m1625/1625\u001b[0m \u001b[32m━━━━━━━━━━━━━━━━━━━━\u001b[0m\u001b[37m\u001b[0m \u001b[1m2s\u001b[0m 1ms/step\n",
            "Training data size of 9000 => accuracy 0.941700\n",
            "\u001b[1m1594/1594\u001b[0m \u001b[32m━━━━━━━━━━━━━━━━━━━━\u001b[0m\u001b[37m\u001b[0m \u001b[1m3s\u001b[0m 2ms/step\n",
            "Training data size of 10000 => accuracy 0.946100\n",
            "\u001b[1m1563/1563\u001b[0m \u001b[32m━━━━━━━━━━━━━━━━━━━━\u001b[0m\u001b[37m\u001b[0m \u001b[1m3s\u001b[0m 2ms/step\n",
            "Training data size of 11000 => accuracy 0.945900\n",
            "\u001b[1m1532/1532\u001b[0m \u001b[32m━━━━━━━━━━━━━━━━━━━━\u001b[0m\u001b[37m\u001b[0m \u001b[1m2s\u001b[0m 2ms/step\n",
            "Training data size of 12000 => accuracy 0.949900\n",
            "\u001b[1m1500/1500\u001b[0m \u001b[32m━━━━━━━━━━━━━━━━━━━━\u001b[0m\u001b[37m\u001b[0m \u001b[1m2s\u001b[0m 1ms/step\n",
            "Training data size of 13000 => accuracy 0.951400\n",
            "\u001b[1m1469/1469\u001b[0m \u001b[32m━━━━━━━━━━━━━━━━━━━━\u001b[0m\u001b[37m\u001b[0m \u001b[1m4s\u001b[0m 3ms/step\n",
            "Training data size of 14000 => accuracy 0.953700\n",
            "\u001b[1m1438/1438\u001b[0m \u001b[32m━━━━━━━━━━━━━━━━━━━━\u001b[0m\u001b[37m\u001b[0m \u001b[1m4s\u001b[0m 3ms/step\n",
            "Training data size of 15000 => accuracy 0.958900\n",
            "\u001b[1m1407/1407\u001b[0m \u001b[32m━━━━━━━━━━━━━━━━━━━━\u001b[0m\u001b[37m\u001b[0m \u001b[1m4s\u001b[0m 3ms/step\n",
            "Training data size of 16000 => accuracy 0.954300\n",
            "\u001b[1m1375/1375\u001b[0m \u001b[32m━━━━━━━━━━━━━━━━━━━━\u001b[0m\u001b[37m\u001b[0m \u001b[1m2s\u001b[0m 1ms/step\n",
            "Training data size of 17000 => accuracy 0.959800\n",
            "\u001b[1m1344/1344\u001b[0m \u001b[32m━━━━━━━━━━━━━━━━━━━━\u001b[0m\u001b[37m\u001b[0m \u001b[1m2s\u001b[0m 1ms/step\n",
            "Training data size of 18000 => accuracy 0.960700\n",
            "\u001b[1m1313/1313\u001b[0m \u001b[32m━━━━━━━━━━━━━━━━━━━━\u001b[0m\u001b[37m\u001b[0m \u001b[1m2s\u001b[0m 1ms/step\n",
            "Training data size of 19000 => accuracy 0.960300\n",
            "\u001b[1m1282/1282\u001b[0m \u001b[32m━━━━━━━━━━━━━━━━━━━━\u001b[0m\u001b[37m\u001b[0m \u001b[1m3s\u001b[0m 2ms/step\n",
            "Training data size of 20000 => accuracy 0.964700\n",
            "\u001b[1m1250/1250\u001b[0m \u001b[32m━━━━━━━━━━━━━━━━━━━━\u001b[0m\u001b[37m\u001b[0m \u001b[1m2s\u001b[0m 1ms/step\n"
          ]
        }
      ]
    },
    {
      "cell_type": "code",
      "metadata": {
        "id": "7R7r2CGOBouu",
        "colab": {
          "base_uri": "https://localhost:8080/",
          "height": 447
        },
        "outputId": "a7397d1d-3cc9-490d-ad00-63bef86376b5"
      },
      "source": [
        "plt.plot(unprioritized_accuracies, 'k', label='baseline')\n",
        "plt.legend()"
      ],
      "execution_count": 44,
      "outputs": [
        {
          "output_type": "execute_result",
          "data": {
            "text/plain": [
              "<matplotlib.legend.Legend at 0x7e3fa21faff0>"
            ]
          },
          "metadata": {},
          "execution_count": 44
        },
        {
          "output_type": "display_data",
          "data": {
            "text/plain": [
              "<Figure size 640x480 with 1 Axes>"
            ],
            "image/png": "[encoded data removed]"
          },
          "metadata": {}
        }
      ]
    },
    {
      "cell_type": "markdown",
      "metadata": {
        "id": "x_E3l2kU_4jE"
      },
      "source": [
        "## Prioritize \"least confidence\"\n",
        "Now lets prioritize adding data that the model is most unsure about, in the hopes that it will more rapidly improve the models test accuracy.  \"unsure\" in this context are those items with the lowest maximum logit (meaning its prediction is weak)."
      ]
    },
    {
      "cell_type": "code",
      "metadata": {
        "id": "_d3l8a5J0aOC"
      },
      "source": [
        "def least_confidence_prediction_prioritizer(indices, predictions):\n",
        "  max_logit = list(zip(indices, np.amax(predictions,axis=1)))\n",
        "  max_logit.sort(key=lambda x: x[1]) # sort in ascending order\n",
        "  return list(zip(*max_logit))[0]"
      ],
      "execution_count": 45,
      "outputs": []
    },
    {
      "cell_type": "code",
      "metadata": {
        "id": "a8OKcvoT0n5i",
        "colab": {
          "base_uri": "https://localhost:8080/"
        },
        "outputId": "377ba280-f49a-4f0c-c46e-99bd7b0e34d9"
      },
      "source": [
        "least_confidence_accuracies = eval_prioritization_strategy(least_confidence_prediction_prioritizer)"
      ],
      "execution_count": null,
      "outputs": [
        {
          "output_type": "stream",
          "name": "stdout",
          "text": [
            "Training data size of 1000 => accuracy 0.872800\n",
            "\u001b[1m1844/1844\u001b[0m \u001b[32m━━━━━━━━━━━━━━━━━━━━\u001b[0m\u001b[37m\u001b[0m \u001b[1m3s\u001b[0m 2ms/step\n",
            "Training data size of 2000 => accuracy 0.900600\n",
            "\u001b[1m1813/1813\u001b[0m \u001b[32m━━━━━━━━━━━━━━━━━━━━\u001b[0m\u001b[37m\u001b[0m \u001b[1m2s\u001b[0m 1ms/step\n",
            "Training data size of 3000 => accuracy 0.920100\n",
            "\u001b[1m1782/1782\u001b[0m \u001b[32m━━━━━━━━━━━━━━━━━━━━\u001b[0m\u001b[37m\u001b[0m \u001b[1m3s\u001b[0m 2ms/step\n",
            "Training data size of 4000 => accuracy 0.944700\n",
            "\u001b[1m1750/1750\u001b[0m \u001b[32m━━━━━━━━━━━━━━━━━━━━\u001b[0m\u001b[37m\u001b[0m \u001b[1m3s\u001b[0m 1ms/step\n",
            "Training data size of 5000 => accuracy 0.955200\n",
            "\u001b[1m1719/1719\u001b[0m \u001b[32m━━━━━━━━━━━━━━━━━━━━\u001b[0m\u001b[37m\u001b[0m \u001b[1m3s\u001b[0m 2ms/step\n",
            "Training data size of 6000 => accuracy 0.963600\n",
            "\u001b[1m1688/1688\u001b[0m \u001b[32m━━━━━━━━━━━━━━━━━━━━\u001b[0m\u001b[37m\u001b[0m \u001b[1m2s\u001b[0m 1ms/step\n",
            "Training data size of 7000 => accuracy 0.966900\n",
            "\u001b[1m1657/1657\u001b[0m \u001b[32m━━━━━━━━━━━━━━━━━━━━\u001b[0m\u001b[37m\u001b[0m \u001b[1m2s\u001b[0m 1ms/step\n",
            "Training data size of 8000 => accuracy 0.970300\n",
            "\u001b[1m1625/1625\u001b[0m \u001b[32m━━━━━━━━━━━━━━━━━━━━\u001b[0m\u001b[37m\u001b[0m \u001b[1m2s\u001b[0m 1ms/step\n"
          ]
        }
      ]
    },
    {
      "cell_type": "code",
      "metadata": {
        "id": "XaX_W9tDBrBT"
      },
      "source": [
        "plt.plot(unprioritized_accuracies, 'k', label='baseline')\n",
        "plt.plot(least_confidence_accuracies, 'b', label='least confidence')\n",
        "plt.legend()"
      ],
      "execution_count": null,
      "outputs": []
    },
    {
      "cell_type": "markdown",
      "metadata": {
        "id": "VZjEpPlKAVfK"
      },
      "source": [
        "## Prioritize \"highest entropy\" of the resulting softmax\n",
        "Lets try a different measure of what to prioritize.  Lets pick the predictions which have the highest entropy of the resulting softmax.  Meaning the model is most \"evenly confused\" across all categories.  e.g. a prediction of [.1,.1,.1,.1,.1,.1,.1,.1,.1,.1] would be the most desirable candidate to add."
      ]
    },
    {
      "cell_type": "code",
      "metadata": {
        "id": "X9Y3tjuB3o0C"
      },
      "source": [
        "def entropy_prioritizer(indices, predictions):\n",
        "  p = predictions * np.log(predictions)\n",
        "  p = -p.sum(axis=1)\n",
        "  p = list(zip(indices, p))\n",
        "  p.sort(reverse=True, key=lambda x : x[1]) # sort in descending order\n",
        "  return list(zip(*p))[0]\n"
      ],
      "execution_count": null,
      "outputs": []
    },
    {
      "cell_type": "code",
      "metadata": {
        "id": "XUOO9ilb49Lv"
      },
      "source": [
        "entropy_prioritized_accuracies = eval_prioritization_strategy(entropy_prioritizer)"
      ],
      "execution_count": null,
      "outputs": []
    },
    {
      "cell_type": "code",
      "metadata": {
        "id": "xMCHlU785g29"
      },
      "source": [
        "plt.plot(unprioritized_accuracies, 'k', label='baseline')\n",
        "plt.plot(least_confidence_accuracies, 'b', label='least confidence')\n",
        "plt.plot(entropy_prioritized_accuracies, 'g', label='highest entropy')\n",
        "plt.legend()"
      ],
      "execution_count": null,
      "outputs": []
    },
    {
      "cell_type": "markdown",
      "metadata": {
        "id": "JJ0YWtg55Fzr"
      },
      "source": [
        "## Prioritize \"least margin\"\n",
        "Another way to prioritize is look for instances where the first and second choice are very close, known as the \"margin\"."
      ]
    },
    {
      "cell_type": "code",
      "metadata": {
        "id": "kAB42FemzUzf"
      },
      "source": [
        "def margin_prioritizer(indices, predictions):\n",
        "  p = -np.sort(-predictions) # sort in descending order\n",
        "  p = p[:,0] - p[:,1]\n",
        "  p = list(zip(indices, p))\n",
        "  p.sort(key=lambda x : x[1]) # sort in ascending order\n",
        "  return list(zip(*p))[0]\n"
      ],
      "execution_count": null,
      "outputs": []
    },
    {
      "cell_type": "code",
      "metadata": {
        "id": "GqTVEgkT0YDi"
      },
      "source": [
        "margin_prioritized_accuracies = eval_prioritization_strategy(margin_prioritizer)"
      ],
      "execution_count": null,
      "outputs": []
    },
    {
      "cell_type": "code",
      "metadata": {
        "id": "PJ_XoI9a3Yua"
      },
      "source": [
        "print(\"unprioritized_accuracies\",unprioritized_accuracies)\n",
        "print(\"least_confidence_accuracies\",least_confidence_accuracies)\n",
        "print(\"entropy_prioritized_accuracies\",entropy_prioritized_accuracies)\n",
        "print(\"margin_prioritized_accuracies\",margin_prioritized_accuracies)\n",
        "plt.plot(unprioritized_accuracies, 'k', label='baseline')\n",
        "plt.plot(least_confidence_accuracies, 'b', label='least confidence')\n",
        "plt.plot(entropy_prioritized_accuracies, 'g', label='highest entropy')\n",
        "plt.plot(margin_prioritized_accuracies, 'r', label='least margin')\n",
        "plt.legend()\n"
      ],
      "execution_count": null,
      "outputs": []
    },
    {
      "cell_type": "markdown",
      "metadata": {
        "id": "8OHgZsYMFyIL"
      },
      "source": [
        "## Conclusion\n",
        "Its impressive that with smart selection of which samples to label we can achieve 95% test accuracy on only 3,500 samples, vs without such smart selection it would take 13,000 samples!\n",
        "\n",
        "Its also interesting to note that the best performing strategy is \"least margin\", which can be viewed as \"highest entropy amongst the top N for N=2\".  Would be interesting to try N=3 and see if it performs any better.  Is there something special about N=2?"
      ]
    }
  ]
}